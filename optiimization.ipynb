{
 "cells": [
  {
   "cell_type": "markdown",
   "metadata": {
    "id": "fnTx5JrSddQV"
   },
   "source": [
    "# Домашнее задание \"Теория оптимизации\"."
   ]
  },
  {
   "cell_type": "markdown",
   "metadata": {
    "id": "Gwx7jfeReY-R"
   },
   "source": [
    "### Задание."
   ]
  },
  {
   "cell_type": "markdown",
   "metadata": {
    "id": "4JhHuyKfddSw"
   },
   "source": [
    "При фиксированном seed=42 поразбирайтесь и поэкспериментируйте с параметрами алгоритма дифференциальной эволюции: strategy, popsize, tol, mutation, recombination и updating.\n",
    "\n",
    "Постройте графики количества итераций оптимизации функции ackley от значения параметра."
   ]
  },
  {
   "cell_type": "code",
   "execution_count": 1,
   "metadata": {},
   "outputs": [],
   "source": [
    "import numpy as np\n",
    "import pandas as pd\n",
    "import scipy\n",
    "import sympy as sym\n",
    "import seaborn as sns\n",
    "from scipy.optimize import differential_evolution\n",
    "import matplotlib.pyplot as plt"
   ]
  },
  {
   "cell_type": "code",
   "execution_count": 2,
   "metadata": {},
   "outputs": [],
   "source": [
    "def Himmelblau(x):\n",
    "# Himmelblau's function\n",
    "    return (x[0]**2+x[1]-11)**2 + (x[0]+x[1]**2-7)**2"
   ]
  },
  {
   "cell_type": "code",
   "execution_count": 3,
   "metadata": {},
   "outputs": [],
   "source": [
    "bounds = [(-5, 5), (-5, 5)]\n",
    "strategy = ['best1bin','best1exp','rand1exp', 'randtobest1exp', \n",
    "                'currenttobest1exp', 'best2exp', 'rand2exp', 'randtobest1bin', 'currenttobest1bin', \n",
    "                'best2bin', 'rand2bin', 'rand1bin']\n",
    "strategy_df = pd.DataFrame({'method':[], 'iterations':[]})\n",
    "\n",
    "for str_ in strategy:\n",
    "    \n",
    "    result = differential_evolution(Himmelblau, bounds, strategy=str_, seed=40)\n",
    "    new_row = {'method':str_, 'iterations':result.nit}\n",
    "    strategy_df = strategy_df.append(new_row, ignore_index=True)"
   ]
  },
  {
   "cell_type": "code",
   "execution_count": 4,
   "metadata": {},
   "outputs": [
    {
     "data": {
      "text/html": [
       "<div>\n",
       "<style scoped>\n",
       "    .dataframe tbody tr th:only-of-type {\n",
       "        vertical-align: middle;\n",
       "    }\n",
       "\n",
       "    .dataframe tbody tr th {\n",
       "        vertical-align: top;\n",
       "    }\n",
       "\n",
       "    .dataframe thead th {\n",
       "        text-align: right;\n",
       "    }\n",
       "</style>\n",
       "<table border=\"1\" class=\"dataframe\">\n",
       "  <thead>\n",
       "    <tr style=\"text-align: right;\">\n",
       "      <th></th>\n",
       "      <th>method</th>\n",
       "      <th>iterations</th>\n",
       "    </tr>\n",
       "  </thead>\n",
       "  <tbody>\n",
       "    <tr>\n",
       "      <th>0</th>\n",
       "      <td>best1bin</td>\n",
       "      <td>111.0</td>\n",
       "    </tr>\n",
       "  </tbody>\n",
       "</table>\n",
       "</div>"
      ],
      "text/plain": [
       "     method  iterations\n",
       "0  best1bin       111.0"
      ]
     },
     "execution_count": 4,
     "metadata": {},
     "output_type": "execute_result"
    }
   ],
   "source": [
    "# метод с наименьшим кол-вом итераций\n",
    "strategy_df[strategy_df['iterations']== np.min(strategy_df.iterations)]"
   ]
  },
  {
   "cell_type": "code",
   "execution_count": 5,
   "metadata": {},
   "outputs": [],
   "source": [
    "popsize_df = pd.DataFrame({'popsize':[], 'iterations':[]})\n",
    "for i in range(1,25,1):\n",
    "    result = differential_evolution(Himmelblau, bounds, strategy='best1bin',popsize=i, seed=40)\n",
    "    new_row = {'popsize':i, 'iterations':result.nit}\n",
    "    popsize_df = popsize_df.append(new_row, ignore_index=True)"
   ]
  },
  {
   "cell_type": "code",
   "execution_count": 6,
   "metadata": {},
   "outputs": [
    {
     "data": {
      "text/html": [
       "<div>\n",
       "<style scoped>\n",
       "    .dataframe tbody tr th:only-of-type {\n",
       "        vertical-align: middle;\n",
       "    }\n",
       "\n",
       "    .dataframe tbody tr th {\n",
       "        vertical-align: top;\n",
       "    }\n",
       "\n",
       "    .dataframe thead th {\n",
       "        text-align: right;\n",
       "    }\n",
       "</style>\n",
       "<table border=\"1\" class=\"dataframe\">\n",
       "  <thead>\n",
       "    <tr style=\"text-align: right;\">\n",
       "      <th></th>\n",
       "      <th>popsize</th>\n",
       "      <th>iterations</th>\n",
       "    </tr>\n",
       "  </thead>\n",
       "  <tbody>\n",
       "    <tr>\n",
       "      <th>0</th>\n",
       "      <td>1.0</td>\n",
       "      <td>6.0</td>\n",
       "    </tr>\n",
       "    <tr>\n",
       "      <th>1</th>\n",
       "      <td>2.0</td>\n",
       "      <td>6.0</td>\n",
       "    </tr>\n",
       "  </tbody>\n",
       "</table>\n",
       "</div>"
      ],
      "text/plain": [
       "   popsize  iterations\n",
       "0      1.0         6.0\n",
       "1      2.0         6.0"
      ]
     },
     "execution_count": 6,
     "metadata": {},
     "output_type": "execute_result"
    }
   ],
   "source": [
    "#объем популяции с наименьшим кол-вом итераций\n",
    "popsize_df[popsize_df['iterations']==popsize_df['iterations'].min()]"
   ]
  },
  {
   "cell_type": "code",
   "execution_count": 7,
   "metadata": {},
   "outputs": [],
   "source": [
    "tolerance_df = pd.DataFrame({'tolerance':[], 'iterations':[]})\n",
    "for i in range(1,9,1):\n",
    "    result = differential_evolution(Himmelblau, bounds, strategy='best1bin',popsize=2, tol=1/10**i, seed=40)\n",
    "    new_row = {'tolerance':1/10**i, 'iterations':result.nit}\n",
    "    tolerance_df = tolerance_df.append(new_row, ignore_index=True)"
   ]
  },
  {
   "cell_type": "code",
   "execution_count": 8,
   "metadata": {},
   "outputs": [
    {
     "data": {
      "text/html": [
       "<div>\n",
       "<style scoped>\n",
       "    .dataframe tbody tr th:only-of-type {\n",
       "        vertical-align: middle;\n",
       "    }\n",
       "\n",
       "    .dataframe tbody tr th {\n",
       "        vertical-align: top;\n",
       "    }\n",
       "\n",
       "    .dataframe thead th {\n",
       "        text-align: right;\n",
       "    }\n",
       "</style>\n",
       "<table border=\"1\" class=\"dataframe\">\n",
       "  <thead>\n",
       "    <tr style=\"text-align: right;\">\n",
       "      <th></th>\n",
       "      <th>tolerance</th>\n",
       "      <th>iterations</th>\n",
       "    </tr>\n",
       "  </thead>\n",
       "  <tbody>\n",
       "    <tr>\n",
       "      <th>0</th>\n",
       "      <td>1.000000e-01</td>\n",
       "      <td>4.0</td>\n",
       "    </tr>\n",
       "    <tr>\n",
       "      <th>1</th>\n",
       "      <td>1.000000e-02</td>\n",
       "      <td>6.0</td>\n",
       "    </tr>\n",
       "    <tr>\n",
       "      <th>2</th>\n",
       "      <td>1.000000e-03</td>\n",
       "      <td>49.0</td>\n",
       "    </tr>\n",
       "    <tr>\n",
       "      <th>3</th>\n",
       "      <td>1.000000e-04</td>\n",
       "      <td>73.0</td>\n",
       "    </tr>\n",
       "    <tr>\n",
       "      <th>4</th>\n",
       "      <td>1.000000e-05</td>\n",
       "      <td>79.0</td>\n",
       "    </tr>\n",
       "    <tr>\n",
       "      <th>5</th>\n",
       "      <td>1.000000e-06</td>\n",
       "      <td>83.0</td>\n",
       "    </tr>\n",
       "    <tr>\n",
       "      <th>6</th>\n",
       "      <td>1.000000e-07</td>\n",
       "      <td>83.0</td>\n",
       "    </tr>\n",
       "    <tr>\n",
       "      <th>7</th>\n",
       "      <td>1.000000e-08</td>\n",
       "      <td>84.0</td>\n",
       "    </tr>\n",
       "  </tbody>\n",
       "</table>\n",
       "</div>"
      ],
      "text/plain": [
       "      tolerance  iterations\n",
       "0  1.000000e-01         4.0\n",
       "1  1.000000e-02         6.0\n",
       "2  1.000000e-03        49.0\n",
       "3  1.000000e-04        73.0\n",
       "4  1.000000e-05        79.0\n",
       "5  1.000000e-06        83.0\n",
       "6  1.000000e-07        83.0\n",
       "7  1.000000e-08        84.0"
      ]
     },
     "execution_count": 8,
     "metadata": {},
     "output_type": "execute_result"
    }
   ],
   "source": [
    "tolerance_df"
   ]
  },
  {
   "cell_type": "markdown",
   "metadata": {},
   "source": [
    "При уменьшение допуска схождения метода кол-во итераций возрастает, но после 1е-5 происходит резкий скачек.    \n",
    "Дальнейшее уменьшение допуска слабо влияет на кол-во итераций.\n",
    "Для дальнейшего исследования оставим tol = 1e-3"
   ]
  },
  {
   "cell_type": "code",
   "execution_count": 9,
   "metadata": {},
   "outputs": [],
   "source": [
    "mut_df = pd.DataFrame({'mutation':[], 'iterations':[]})\n",
    "\n",
    "for mut in np.linspace(1e-3, 1.99, num = 50):\n",
    "    result = differential_evolution(Himmelblau, bounds, strategy='best1bin', \n",
    "                                    popsize=3, tol=1e-3, mutation=mut, seed=40)\n",
    "    new_row = {'mutation':i, 'iterations':result.nit}\n",
    "    mut_df = mut_df.append(new_row, ignore_index=True)"
   ]
  },
  {
   "cell_type": "code",
   "execution_count": 10,
   "metadata": {},
   "outputs": [
    {
     "data": {
      "text/html": [
       "<div>\n",
       "<style scoped>\n",
       "    .dataframe tbody tr th:only-of-type {\n",
       "        vertical-align: middle;\n",
       "    }\n",
       "\n",
       "    .dataframe tbody tr th {\n",
       "        vertical-align: top;\n",
       "    }\n",
       "\n",
       "    .dataframe thead th {\n",
       "        text-align: right;\n",
       "    }\n",
       "</style>\n",
       "<table border=\"1\" class=\"dataframe\">\n",
       "  <thead>\n",
       "    <tr style=\"text-align: right;\">\n",
       "      <th></th>\n",
       "      <th>mutation</th>\n",
       "      <th>iterations</th>\n",
       "    </tr>\n",
       "  </thead>\n",
       "  <tbody>\n",
       "    <tr>\n",
       "      <th>0</th>\n",
       "      <td>8.0</td>\n",
       "      <td>3.0</td>\n",
       "    </tr>\n",
       "    <tr>\n",
       "      <th>1</th>\n",
       "      <td>8.0</td>\n",
       "      <td>4.0</td>\n",
       "    </tr>\n",
       "    <tr>\n",
       "      <th>2</th>\n",
       "      <td>8.0</td>\n",
       "      <td>4.0</td>\n",
       "    </tr>\n",
       "    <tr>\n",
       "      <th>3</th>\n",
       "      <td>8.0</td>\n",
       "      <td>4.0</td>\n",
       "    </tr>\n",
       "    <tr>\n",
       "      <th>4</th>\n",
       "      <td>8.0</td>\n",
       "      <td>3.0</td>\n",
       "    </tr>\n",
       "  </tbody>\n",
       "</table>\n",
       "</div>"
      ],
      "text/plain": [
       "   mutation  iterations\n",
       "0       8.0         3.0\n",
       "1       8.0         4.0\n",
       "2       8.0         4.0\n",
       "3       8.0         4.0\n",
       "4       8.0         3.0"
      ]
     },
     "execution_count": 10,
     "metadata": {},
     "output_type": "execute_result"
    }
   ],
   "source": [
    "mut_df.head()"
   ]
  },
  {
   "cell_type": "markdown",
   "metadata": {},
   "source": [
    "Не совсем понял на что влияет этот коэффициент. "
   ]
  },
  {
   "cell_type": "code",
   "execution_count": 11,
   "metadata": {},
   "outputs": [],
   "source": [
    "recomb_df = pd.DataFrame({'recomb':[], 'iterations':[]})\n",
    "for i in np.linspace(0, 1, num = 50):\n",
    "    result = differential_evolution(Himmelblau, bounds, strategy='best1bin', \n",
    "                                    popsize=3, tol=1e-2, recombination=i, seed=40)\n",
    "    new_row = {'recomb':i, 'iterations':result.nit}\n",
    "    recomb_df = recomb_df.append(new_row, ignore_index=True)"
   ]
  },
  {
   "cell_type": "code",
   "execution_count": 12,
   "metadata": {},
   "outputs": [
    {
     "data": {
      "image/png": "[encoded data removed]",
      "text/plain": [
       "<Figure size 432x288 with 1 Axes>"
      ]
     },
     "metadata": {
      "needs_background": "light"
     },
     "output_type": "display_data"
    }
   ],
   "source": [
    "sns.lineplot(data = recomb_df, x = recomb_df.recomb, y=recomb_df.iterations)\n",
    "plt.grid()"
   ]
  },
  {
   "cell_type": "markdown",
   "metadata": {},
   "source": [
    "Посмотрим ближе, отбросив первые 5 значений"
   ]
  },
  {
   "cell_type": "code",
   "execution_count": 13,
   "metadata": {},
   "outputs": [
    {
     "data": {
      "image/png": "[encoded data removed]",
      "text/plain": [
       "<Figure size 432x288 with 1 Axes>"
      ]
     },
     "metadata": {
      "needs_background": "light"
     },
     "output_type": "display_data"
    }
   ],
   "source": [
    "sns.lineplot(data = recomb_df.loc[10:, :], x = recomb_df.loc[5:, :].recomb, y=recomb_df.loc[10:, :].iterations)\n",
    "plt.grid()"
   ]
  },
  {
   "cell_type": "markdown",
   "metadata": {},
   "source": [
    "После 0.9 снижение не значительно.  "
   ]
  },
  {
   "cell_type": "code",
   "execution_count": 14,
   "metadata": {},
   "outputs": [
    {
     "name": "stdout",
     "output_type": "stream",
     "text": [
      "     fun: 3.899553682992228e-15\n",
      "     jac: array([-8.92877896e-08,  3.85479876e-08])\n",
      " message: 'Optimization terminated successfully.'\n",
      "    nfev: 264\n",
      "     nit: 40\n",
      " success: True\n",
      "       x: array([-3.77931026, -3.283186  ]) \n",
      "\n",
      "     fun: 9.046394170352651e-13\n",
      "     jac: array([1.67520431e-06, 7.66959858e-06])\n",
      " message: 'Optimization terminated successfully.'\n",
      "    nfev: 150\n",
      "     nit: 20\n",
      " success: True\n",
      "       x: array([2.99999995, 2.00000025])\n"
     ]
    }
   ],
   "source": [
    "result_immediate = differential_evolution(Himmelblau, bounds, strategy='best1bin', \n",
    "                                popsize=3, tol=1e-2, recombination=0.9, updating='immediate', seed=40)\n",
    "result_deferred = differential_evolution(Himmelblau, bounds, strategy='best1bin', \n",
    "                                popsize=3, tol=1e-2, recombination=0.9, updating='deferred', seed=40)\n",
    "print(result_immediate, '\\n')\n",
    "print(result_deferred)"
   ]
  },
  {
   "cell_type": "markdown",
   "metadata": {},
   "source": [
    "Выбираем метод immediate, который обновляет вектор лучшего решения в течении одного поколения"
   ]
  },
  {
   "cell_type": "markdown",
   "metadata": {
    "id": "AoJvQgnVddUy"
   },
   "source": [
    "### Дополнительное задание."
   ]
  },
  {
   "cell_type": "markdown",
   "metadata": {
    "id": "0G9zpm2ZddWr"
   },
   "source": [
    "Найти множество параметров (strategy=..., ..., updating=...), которые требуют минимального количества итераций."
   ]
  },
  {
   "cell_type": "code",
   "execution_count": 15,
   "metadata": {
    "colab": {
     "base_uri": "https://localhost:8080/"
    },
    "id": "2BlN34tSeplM",
    "outputId": "086f6737-3509-4971-dea7-6ee184c96e8e"
   },
   "outputs": [
    {
     "data": {
      "text/plain": [
       "     fun: 4.440892098500626e-16\n",
       " message: 'Optimization terminated successfully.'\n",
       "    nfev: 2793\n",
       "     nit: 90\n",
       " success: True\n",
       "       x: array([0., 0.])"
      ]
     },
     "execution_count": 15,
     "metadata": {},
     "output_type": "execute_result"
    }
   ],
   "source": [
    "def ackley(x):\n",
    "    arg1 = -0.2 * np.sqrt(0.5 * (x[0] ** 2 + x[1] ** 2))\n",
    "    arg2 = 0.5 * (np.cos(2. * np.pi * x[0]) + np.cos(2. * np.pi * x[1]))\n",
    "    return -20. * np.exp(arg1) - np.exp(arg2) + 20. + np.e\n",
    "\n",
    "bounds = [(-10, 10), (-10, 10)]\n",
    "\n",
    "result = differential_evolution(ackley, bounds, seed=42)\n",
    "result"
   ]
  },
  {
   "cell_type": "code",
   "execution_count": 16,
   "metadata": {},
   "outputs": [],
   "source": [
    "strategy = ['best1bin','best1exp','rand1exp', 'randtobest1exp', \n",
    "                'currenttobest1exp', 'best2exp', 'rand2exp', 'randtobest1bin', 'currenttobest1bin', \n",
    "                'best2bin', 'rand2bin', 'rand1bin']\n",
    "strategy_df = pd.DataFrame({'method':[], 'iterations':[]})\n",
    "\n",
    "for str_ in strategy:\n",
    "    \n",
    "    result = differential_evolution(Himmelblau, bounds, strategy=str_, seed=42)\n",
    "    new_row = {'method':str_, 'iterations':result.nit}\n",
    "    strategy_df = strategy_df.append(new_row, ignore_index=True)"
   ]
  },
  {
   "cell_type": "code",
   "execution_count": 17,
   "metadata": {},
   "outputs": [
    {
     "data": {
      "text/html": [
       "<div>\n",
       "<style scoped>\n",
       "    .dataframe tbody tr th:only-of-type {\n",
       "        vertical-align: middle;\n",
       "    }\n",
       "\n",
       "    .dataframe tbody tr th {\n",
       "        vertical-align: top;\n",
       "    }\n",
       "\n",
       "    .dataframe thead th {\n",
       "        text-align: right;\n",
       "    }\n",
       "</style>\n",
       "<table border=\"1\" class=\"dataframe\">\n",
       "  <thead>\n",
       "    <tr style=\"text-align: right;\">\n",
       "      <th></th>\n",
       "      <th>method</th>\n",
       "      <th>iterations</th>\n",
       "    </tr>\n",
       "  </thead>\n",
       "  <tbody>\n",
       "    <tr>\n",
       "      <th>0</th>\n",
       "      <td>best1bin</td>\n",
       "      <td>98.0</td>\n",
       "    </tr>\n",
       "  </tbody>\n",
       "</table>\n",
       "</div>"
      ],
      "text/plain": [
       "     method  iterations\n",
       "0  best1bin        98.0"
      ]
     },
     "execution_count": 17,
     "metadata": {},
     "output_type": "execute_result"
    }
   ],
   "source": [
    "# метод с наименьшим кол-вом итераций\n",
    "strategy_df[strategy_df['iterations']== np.min(strategy_df.iterations)]"
   ]
  },
  {
   "cell_type": "code",
   "execution_count": 18,
   "metadata": {},
   "outputs": [],
   "source": [
    "popsize_df = pd.DataFrame({'popsize':[], 'iterations':[]})\n",
    "for i in range(1,25,1):\n",
    "    result = differential_evolution(Himmelblau, bounds, strategy='best1bin',popsize=i, seed=42)\n",
    "    new_row = {'popsize':i, 'iterations':result.nit}\n",
    "    popsize_df = popsize_df.append(new_row, ignore_index=True)"
   ]
  },
  {
   "cell_type": "code",
   "execution_count": 19,
   "metadata": {},
   "outputs": [
    {
     "data": {
      "image/png": "[encoded data removed]",
      "text/plain": [
       "<Figure size 432x288 with 1 Axes>"
      ]
     },
     "metadata": {
      "needs_background": "light"
     },
     "output_type": "display_data"
    }
   ],
   "source": [
    "sns.lineplot(data=popsize_df, x=popsize_df.popsize, y=popsize_df.iterations)\n",
    "plt.grid()"
   ]
  },
  {
   "cell_type": "code",
   "execution_count": 20,
   "metadata": {},
   "outputs": [
    {
     "data": {
      "text/html": [
       "<div>\n",
       "<style scoped>\n",
       "    .dataframe tbody tr th:only-of-type {\n",
       "        vertical-align: middle;\n",
       "    }\n",
       "\n",
       "    .dataframe tbody tr th {\n",
       "        vertical-align: top;\n",
       "    }\n",
       "\n",
       "    .dataframe thead th {\n",
       "        text-align: right;\n",
       "    }\n",
       "</style>\n",
       "<table border=\"1\" class=\"dataframe\">\n",
       "  <thead>\n",
       "    <tr style=\"text-align: right;\">\n",
       "      <th></th>\n",
       "      <th>popsize</th>\n",
       "      <th>iterations</th>\n",
       "    </tr>\n",
       "  </thead>\n",
       "  <tbody>\n",
       "    <tr>\n",
       "      <th>2</th>\n",
       "      <td>3.0</td>\n",
       "      <td>15.0</td>\n",
       "    </tr>\n",
       "  </tbody>\n",
       "</table>\n",
       "</div>"
      ],
      "text/plain": [
       "   popsize  iterations\n",
       "2      3.0        15.0"
      ]
     },
     "execution_count": 20,
     "metadata": {},
     "output_type": "execute_result"
    }
   ],
   "source": [
    "#объем популяции с наименьшим кол-вом итераций\n",
    "popsize_df[popsize_df['iterations']==popsize_df['iterations'].min()]"
   ]
  },
  {
   "cell_type": "code",
   "execution_count": 21,
   "metadata": {},
   "outputs": [],
   "source": [
    "tolerance_df = pd.DataFrame({'tolerance':[], 'iterations':[]})\n",
    "for i in range(1,9,1):\n",
    "    result = differential_evolution(Himmelblau, bounds, strategy='best1bin',popsize=3, tol=1/10**i, seed=42)\n",
    "    new_row = {'tolerance':1/10**i, 'iterations':result.nit}\n",
    "    tolerance_df = tolerance_df.append(new_row, ignore_index=True)"
   ]
  },
  {
   "cell_type": "code",
   "execution_count": 22,
   "metadata": {},
   "outputs": [
    {
     "data": {
      "text/html": [
       "<div>\n",
       "<style scoped>\n",
       "    .dataframe tbody tr th:only-of-type {\n",
       "        vertical-align: middle;\n",
       "    }\n",
       "\n",
       "    .dataframe tbody tr th {\n",
       "        vertical-align: top;\n",
       "    }\n",
       "\n",
       "    .dataframe thead th {\n",
       "        text-align: right;\n",
       "    }\n",
       "</style>\n",
       "<table border=\"1\" class=\"dataframe\">\n",
       "  <thead>\n",
       "    <tr style=\"text-align: right;\">\n",
       "      <th></th>\n",
       "      <th>tolerance</th>\n",
       "      <th>iterations</th>\n",
       "    </tr>\n",
       "  </thead>\n",
       "  <tbody>\n",
       "    <tr>\n",
       "      <th>0</th>\n",
       "      <td>1.000000e-01</td>\n",
       "      <td>10.0</td>\n",
       "    </tr>\n",
       "    <tr>\n",
       "      <th>1</th>\n",
       "      <td>1.000000e-02</td>\n",
       "      <td>15.0</td>\n",
       "    </tr>\n",
       "    <tr>\n",
       "      <th>2</th>\n",
       "      <td>1.000000e-03</td>\n",
       "      <td>69.0</td>\n",
       "    </tr>\n",
       "    <tr>\n",
       "      <th>3</th>\n",
       "      <td>1.000000e-04</td>\n",
       "      <td>83.0</td>\n",
       "    </tr>\n",
       "    <tr>\n",
       "      <th>4</th>\n",
       "      <td>1.000000e-05</td>\n",
       "      <td>143.0</td>\n",
       "    </tr>\n",
       "    <tr>\n",
       "      <th>5</th>\n",
       "      <td>1.000000e-06</td>\n",
       "      <td>259.0</td>\n",
       "    </tr>\n",
       "    <tr>\n",
       "      <th>6</th>\n",
       "      <td>1.000000e-07</td>\n",
       "      <td>259.0</td>\n",
       "    </tr>\n",
       "    <tr>\n",
       "      <th>7</th>\n",
       "      <td>1.000000e-08</td>\n",
       "      <td>259.0</td>\n",
       "    </tr>\n",
       "  </tbody>\n",
       "</table>\n",
       "</div>"
      ],
      "text/plain": [
       "      tolerance  iterations\n",
       "0  1.000000e-01        10.0\n",
       "1  1.000000e-02        15.0\n",
       "2  1.000000e-03        69.0\n",
       "3  1.000000e-04        83.0\n",
       "4  1.000000e-05       143.0\n",
       "5  1.000000e-06       259.0\n",
       "6  1.000000e-07       259.0\n",
       "7  1.000000e-08       259.0"
      ]
     },
     "execution_count": 22,
     "metadata": {},
     "output_type": "execute_result"
    }
   ],
   "source": [
    "tolerance_df"
   ]
  },
  {
   "cell_type": "code",
   "execution_count": 23,
   "metadata": {},
   "outputs": [],
   "source": [
    "recomb_df = pd.DataFrame({'recomb':[], 'iterations':[]})\n",
    "for i in np.linspace(0, 1, num = 50):\n",
    "    result = differential_evolution(Himmelblau, bounds, strategy='best1bin', \n",
    "                                    popsize=3, tol=1e-2, recombination=i, seed=42)\n",
    "    new_row = {'recomb':i, 'iterations':result.nit}\n",
    "    recomb_df = recomb_df.append(new_row, ignore_index=True)"
   ]
  },
  {
   "cell_type": "code",
   "execution_count": 24,
   "metadata": {},
   "outputs": [
    {
     "data": {
      "image/png": "[encoded data removed]",
      "text/plain": [
       "<Figure size 432x288 with 1 Axes>"
      ]
     },
     "metadata": {
      "needs_background": "light"
     },
     "output_type": "display_data"
    }
   ],
   "source": [
    "sns.lineplot(data = recomb_df, x = recomb_df.recomb, y=recomb_df.iterations)\n",
    "plt.grid()"
   ]
  },
  {
   "cell_type": "code",
   "execution_count": 25,
   "metadata": {},
   "outputs": [
    {
     "data": {
      "image/png": "[encoded data removed]",
      "text/plain": [
       "<Figure size 432x288 with 1 Axes>"
      ]
     },
     "metadata": {
      "needs_background": "light"
     },
     "output_type": "display_data"
    }
   ],
   "source": [
    "sns.lineplot(data = recomb_df.loc[10:, :], x = recomb_df.loc[5:, :].recomb, y=recomb_df.loc[10:, :].iterations)\n",
    "plt.grid()"
   ]
  },
  {
   "cell_type": "code",
   "execution_count": 26,
   "metadata": {},
   "outputs": [
    {
     "name": "stdout",
     "output_type": "stream",
     "text": [
      "     fun: 6.868010459107674e-16\n",
      "     jac: array([7.96537192e-08, 9.65880663e-09])\n",
      " message: 'Optimization terminated successfully.'\n",
      "    nfev: 99\n",
      "     nit: 12\n",
      " success: True\n",
      "       x: array([3., 2.]) \n",
      "\n",
      "     fun: 2.3047019572535486e-15\n",
      "     jac: array([-7.43503698e-08,  3.28115455e-07])\n",
      " message: 'Optimization terminated successfully.'\n",
      "    nfev: 246\n",
      "     nit: 36\n",
      " success: True\n",
      "       x: array([-3.77931026, -3.28318599])\n"
     ]
    }
   ],
   "source": [
    "result_immediate = differential_evolution(Himmelblau, bounds, strategy='best1bin', \n",
    "                                popsize=3, tol=1e-2, recombination=0.9, updating='immediate', seed=42)\n",
    "result_deferred = differential_evolution(Himmelblau, bounds, strategy='best1bin', \n",
    "                                popsize=3, tol=1e-2, recombination=0.9, updating='deferred', seed=42)\n",
    "print(result_immediate, '\\n')\n",
    "print(result_deferred)"
   ]
  }
 ],
 "metadata": {
  "colab": {
   "collapsed_sections": [],
   "name": "HW_6",
   "provenance": []
  },
  "kernelspec": {
   "display_name": "Python 3",
   "language": "python",
   "name": "python3"
  },
  "language_info": {
   "codemirror_mode": {
    "name": "ipython",
    "version": 3
   },
   "file_extension": ".py",
   "mimetype": "text/x-python",
   "name": "python",
   "nbconvert_exporter": "python",
   "pygments_lexer": "ipython3",
   "version": "3.8.4rc1"
  }
 },
 "nbformat": 4,
 "nbformat_minor": 1
}
